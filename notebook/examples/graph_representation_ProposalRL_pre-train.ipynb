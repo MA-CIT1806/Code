{
 "cells": [
  {
   "cell_type": "code",
   "execution_count": null,
   "metadata": {},
   "outputs": [],
   "source": [
    "import os\n",
    "import sys\n",
    "sys.path.append(os.path.join(os.path.abspath(''), \"..\",\"..\"))\n",
    "\n",
    "from src.utils import setup_device, setup_seed\n",
    "\n",
    "local_path = os.path.join(os.path.abspath(''), \"..\",\"..\", \"data\", \"raw\", \"Neu\", \"anomaly\")\n",
    "remote_path = os.path.join(os.path.abspath(''), \"..\",\"..\", \"..\", \"anomaly\")\n",
    "\n",
    "device, data_path = setup_device(local_path, remote_path)\n",
    "_init_fn = None #setup_seed()"
   ]
  },
  {
   "cell_type": "code",
   "execution_count": null,
   "metadata": {},
   "outputs": [],
   "source": [
    "import torch\n",
    "import numpy as np"
   ]
  },
  {
   "cell_type": "code",
   "execution_count": null,
   "metadata": {},
   "outputs": [],
   "source": [
    "model_name = \"ProposalRL\"\n",
    "dataset_names = [\n",
    "    \"cassandra\",\n",
    "    \"sprout\",\n",
    "    \"astaire\",\n",
    "    \"backend\",\n",
    "    \"homer\",\n",
    "    \"homestead\",\n",
    "    \"load-balancer\",\n",
    "    \"chronos\",\n",
    "    \"bono\"\n",
    "]"
   ]
  },
  {
   "cell_type": "code",
   "execution_count": null,
   "metadata": {},
   "outputs": [],
   "source": [
    "from src.preparation.utils import load_datasets\n",
    "from src.utils import store_results\n",
    "\n",
    "exclude_anomalies = None\n",
    "\n",
    "datasets = load_datasets(dataset_names, data_path, exclude_anomalies=exclude_anomalies)"
   ]
  },
  {
   "cell_type": "code",
   "execution_count": null,
   "metadata": {},
   "outputs": [],
   "source": [
    "from src.preparation.transforms import *\n",
    "import torch_geometric.transforms as T\n",
    "\n",
    "data_transform_steps = {\n",
    "    \"transforms\": [\n",
    "        MinMaxTransform()\n",
    "    ],\n",
    "    \"clear_after_use\": True\n",
    "}"
   ]
  },
  {
   "cell_type": "code",
   "execution_count": null,
   "metadata": {},
   "outputs": [],
   "source": [
    "training_config = {\n",
    "    \"extraction_target\": \"window\",\n",
    "    \"epochs\": 100,\n",
    "    \"device\": device,\n",
    "    \"early_stopping\": 30,\n",
    "    \"checkpoint_saving\": True,\n",
    "    \"graph_dataset_config\": {\n",
    "        \"window_width\": 20,\n",
    "        \"sliding_window\": 1,\n",
    "        \"flatten_slice\": False,        \n",
    "        \"shuffle_settings\": {\n",
    "            \"train\": True,\n",
    "            \"valid\": False,\n",
    "            \"test\": False\n",
    "        },    \n",
    "        \"complete_batches\": True,  \n",
    "        \"use_custom_sampler\": None,    \n",
    "        \"batch_size\": 128,\n",
    "        \"init_fn\": _init_fn    \n",
    "    },\n",
    "    \"augmentate\": {\n",
    "        \"proba\": 0.0,\n",
    "        \"mu\": [0,0],\n",
    "        \"sigma\": [0.05, 0.1],\n",
    "        \"offline\": True,\n",
    "        \"cat\": True\n",
    "    },\n",
    "    \"optimizer_config\": {\n",
    "        \"lr\": 1e-3,\n",
    "        \"weight_decay\": 1e-5,\n",
    "        \"betas\":(0.9, 0.999)\n",
    "    }\n",
    "}"
   ]
  },
  {
   "cell_type": "code",
   "execution_count": null,
   "metadata": {},
   "outputs": [],
   "source": [
    "from src.modeling.models_tf import ProposalRL"
   ]
  },
  {
   "cell_type": "code",
   "execution_count": null,
   "metadata": {},
   "outputs": [],
   "source": [
    "from src.modeling.regression_pipeline import RegressionPipeline\n",
    "from src.modeling.utils import CombinedLoss"
   ]
  },
  {
   "cell_type": "code",
   "execution_count": null,
   "metadata": {},
   "outputs": [],
   "source": [
    "model_settings = {\n",
    "    \"optimizer_class\": torch.optim.Adam,\n",
    "    \"loss_class\": CombinedLoss,\n",
    "    \"model_class\": ProposalRL,\n",
    "    \"save_path\": os.path.join(os.path.abspath(''), \"..\",\"..\", \"..\", \"models\", \"temp-models\")\n",
    "}"
   ]
  },
  {
   "cell_type": "code",
   "execution_count": null,
   "metadata": {},
   "outputs": [],
   "source": [
    "model_config = {\n",
    "    \"num_node_features\": 20,\n",
    "    \"num_hidden\": 64,\n",
    "    \"num_flex\": 512,\n",
    "    \"dropout\": 0.5,\n",
    "    \"nb_polynomial_order\": 3,\n",
    "    \"graclus_pooling\": True\n",
    "}"
   ]
  },
  {
   "cell_type": "code",
   "execution_count": null,
   "metadata": {},
   "outputs": [],
   "source": [
    "def score_function(engine):\n",
    "    val_loss = engine.state.metrics['mse']\n",
    "    return -val_loss"
   ]
  },
  {
   "cell_type": "code",
   "execution_count": null,
   "metadata": {},
   "outputs": [],
   "source": [
    "pipeline = RegressionPipeline(datasets, \n",
    "                        data_transform_steps=data_transform_steps,\n",
    "                        model_settings=model_settings,\n",
    "                        model_config=model_config,\n",
    "                        training_config=training_config,\n",
    "                        score_function=score_function\n",
    "                       )"
   ]
  },
  {
   "cell_type": "code",
   "execution_count": null,
   "metadata": {},
   "outputs": [],
   "source": [
    "from src.preparation.splitting import TransferLearningWrapper\n",
    "\n",
    "# evaluate model & hyperparameters\n",
    "test_acc, test_loss = pipeline.run(dataset_names, model_name, folds=1, test=False, wrapper=TransferLearningWrapper)"
   ]
  },
  {
   "cell_type": "code",
   "execution_count": null,
   "metadata": {},
   "outputs": [],
   "source": [
    "# store results\n",
    "store_results(test_acc, \n",
    "              test_loss, \n",
    "              dataset_names, \n",
    "              model_name, [\n",
    "                  training_config,\n",
    "                  model_config,\n",
    "                  model_settings\n",
    "              ])"
   ]
  }
 ],
 "metadata": {
  "kernelspec": {
   "display_name": "Python 3",
   "language": "python",
   "name": "python3"
  },
  "language_info": {
   "codemirror_mode": {
    "name": "ipython",
    "version": 3
   },
   "file_extension": ".py",
   "mimetype": "text/x-python",
   "name": "python",
   "nbconvert_exporter": "python",
   "pygments_lexer": "ipython3",
   "version": "3.6.7"
  }
 },
 "nbformat": 4,
 "nbformat_minor": 2
}